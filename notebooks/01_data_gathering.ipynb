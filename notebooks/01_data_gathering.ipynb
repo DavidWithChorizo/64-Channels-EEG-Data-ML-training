{
 "cells": [
  {
   "cell_type": "markdown",
   "metadata": {},
   "source": [
    "## This section is to gather the useful data within the big package that we have downloaded from the open-source website. In particular, the 3 different kinds of states: left, still and right hand state."
   ]
  },
  {
   "cell_type": "code",
   "execution_count": 28,
   "metadata": {},
   "outputs": [],
   "source": [
    "# Import the required Python libraries\n",
    "import os\n",
    "import re\n",
    "from pathlib import Path\n",
    "import pandas as pd"
   ]
  },
  {
   "cell_type": "code",
   "execution_count": 32,
   "metadata": {},
   "outputs": [],
   "source": [
    "# Define the path to your raw_data directory\n",
    "data_dir = Path('../data/raw data')  # Adjust this path as needed\n",
    "\n",
    "# Verify the directory exists\n",
    "if not data_dir.exists():\n",
    "    raise FileNotFoundError(f\"The specified data directory does not exist: {data_dir}\")\n",
    "\n",
    "# Define the specific runs to process, including both two-digit and three-digit run numbers\n",
    "desired_runs = ['04', '08', '12']\n",
    "\n",
    "# Compile a regular expression pattern to match filenames like S001R04.edf, S002R08.edf, S001R012.edf, etc.\n",
    "# This pattern ensures that only R04, R08, R12 are matched\n",
    "edf_pattern = re.compile(r'^S\\d{3}R0?(04|08|12)\\.edf$', re.IGNORECASE)"
   ]
  },
  {
   "cell_type": "markdown",
   "metadata": {},
   "source": [
    "We’ll iterate through all files in the data_dir, filter out the .edf files that match the naming pattern, and collect their names."
   ]
  },
  {
   "cell_type": "code",
   "execution_count": 33,
   "metadata": {},
   "outputs": [
    {
     "name": "stdout",
     "output_type": "stream",
     "text": [
      "Total subject directories processed: 109\n"
     ]
    }
   ],
   "source": [
    "# Initialize a list to store file information\n",
    "file_info = []\n",
    "\n",
    "# Counter for processed subject directories\n",
    "processed_subjects = 0\n",
    "\n",
    "# Iterate through each subject folder in raw_data\n",
    "for subject_dir in data_dir.iterdir():\n",
    "    if subject_dir.is_dir() and re.match(r'^S\\d{3}$', subject_dir.name, re.IGNORECASE):\n",
    "        processed_subjects += 1\n",
    "        # Iterate through each file in the subject directory\n",
    "        for file in subject_dir.iterdir():\n",
    "            if file.is_file() and edf_pattern.match(file.name):\n",
    "                # Derive the corresponding event file name\n",
    "                base_name = file.stem  # e.g., S001R04\n",
    "                event_file = f\"{base_name}.edf.event\"\n",
    "                event_path = subject_dir / event_file\n",
    "                \n",
    "                # Check if the event file exists\n",
    "                event_exists = event_path.exists()\n",
    "                \n",
    "                # Append the information to the list\n",
    "                file_info.append({\n",
    "                    'subject': subject_dir.name,\n",
    "                    'edf_file': file.name,\n",
    "                    'event_file': event_file,\n",
    "                    'event_exists': event_exists,\n",
    "                    'edf_path': str(file.resolve()),\n",
    "                    'event_path': str(event_path.resolve()) if event_exists else None\n",
    "                })\n",
    "\n",
    "# Convert the list to a DataFrame for better visualization\n",
    "df_files = pd.DataFrame(file_info)\n",
    "\n",
    "# Display summary of processed subject directories\n",
    "print(f\"Total subject directories processed: {processed_subjects}\")"
   ]
  },
  {
   "cell_type": "code",
   "execution_count": 34,
   "metadata": {},
   "outputs": [
    {
     "name": "stdout",
     "output_type": "stream",
     "text": [
      "Total matched .edf files: 327\n",
      "Number of corresponding event files found: 327\n",
      "Number of missing event files: 0\n"
     ]
    }
   ],
   "source": [
    "# Total number of matched .edf files\n",
    "total_edf = df_files.shape[0]\n",
    "\n",
    "# Number of event files present\n",
    "total_events = df_files['event_exists'].sum()\n",
    "\n",
    "# Number of missing event files\n",
    "missing_events = total_edf - total_events\n",
    "\n",
    "print(f\"Total matched .edf files: {total_edf}\")\n",
    "print(f\"Number of corresponding event files found: {total_events}\")\n",
    "print(f\"Number of missing event files: {missing_events}\")"
   ]
  },
  {
   "cell_type": "code",
   "execution_count": 35,
   "metadata": {},
   "outputs": [
    {
     "name": "stdout",
     "output_type": "stream",
     "text": [
      "\n",
      "All matched .edf files have corresponding event files.\n"
     ]
    }
   ],
   "source": [
    "# Filter the DataFrame for missing event files\n",
    "df_missing_events = df_files[~df_files['event_exists']]\n",
    "\n",
    "# Display the list of .edf files without corresponding event files\n",
    "if not df_missing_events.empty:\n",
    "    print(\"\\nFiles missing corresponding event files:\")\n",
    "    display(df_missing_events[['subject', 'edf_file', 'event_file']])\n",
    "else:\n",
    "    print(\"\\nAll matched .edf files have corresponding event files.\")"
   ]
  },
  {
   "cell_type": "code",
   "execution_count": 36,
   "metadata": {},
   "outputs": [
    {
     "name": "stdout",
     "output_type": "stream",
     "text": [
      "List of All Matched .edf Files:\n"
     ]
    },
    {
     "data": {
      "text/html": [
       "<div>\n",
       "<style scoped>\n",
       "    .dataframe tbody tr th:only-of-type {\n",
       "        vertical-align: middle;\n",
       "    }\n",
       "\n",
       "    .dataframe tbody tr th {\n",
       "        vertical-align: top;\n",
       "    }\n",
       "\n",
       "    .dataframe thead th {\n",
       "        text-align: right;\n",
       "    }\n",
       "</style>\n",
       "<table border=\"1\" class=\"dataframe\">\n",
       "  <thead>\n",
       "    <tr style=\"text-align: right;\">\n",
       "      <th></th>\n",
       "      <th>subject</th>\n",
       "      <th>edf_file</th>\n",
       "      <th>event_file</th>\n",
       "      <th>event_exists</th>\n",
       "    </tr>\n",
       "  </thead>\n",
       "  <tbody>\n",
       "    <tr>\n",
       "      <th>0</th>\n",
       "      <td>S038</td>\n",
       "      <td>S038R12.edf</td>\n",
       "      <td>S038R12.edf.event</td>\n",
       "      <td>True</td>\n",
       "    </tr>\n",
       "    <tr>\n",
       "      <th>1</th>\n",
       "      <td>S038</td>\n",
       "      <td>S038R04.edf</td>\n",
       "      <td>S038R04.edf.event</td>\n",
       "      <td>True</td>\n",
       "    </tr>\n",
       "    <tr>\n",
       "      <th>2</th>\n",
       "      <td>S038</td>\n",
       "      <td>S038R08.edf</td>\n",
       "      <td>S038R08.edf.event</td>\n",
       "      <td>True</td>\n",
       "    </tr>\n",
       "    <tr>\n",
       "      <th>3</th>\n",
       "      <td>S007</td>\n",
       "      <td>S007R08.edf</td>\n",
       "      <td>S007R08.edf.event</td>\n",
       "      <td>True</td>\n",
       "    </tr>\n",
       "    <tr>\n",
       "      <th>4</th>\n",
       "      <td>S007</td>\n",
       "      <td>S007R04.edf</td>\n",
       "      <td>S007R04.edf.event</td>\n",
       "      <td>True</td>\n",
       "    </tr>\n",
       "    <tr>\n",
       "      <th>...</th>\n",
       "      <td>...</td>\n",
       "      <td>...</td>\n",
       "      <td>...</td>\n",
       "      <td>...</td>\n",
       "    </tr>\n",
       "    <tr>\n",
       "      <th>322</th>\n",
       "      <td>S106</td>\n",
       "      <td>S106R04.edf</td>\n",
       "      <td>S106R04.edf.event</td>\n",
       "      <td>True</td>\n",
       "    </tr>\n",
       "    <tr>\n",
       "      <th>323</th>\n",
       "      <td>S106</td>\n",
       "      <td>S106R08.edf</td>\n",
       "      <td>S106R08.edf.event</td>\n",
       "      <td>True</td>\n",
       "    </tr>\n",
       "    <tr>\n",
       "      <th>324</th>\n",
       "      <td>S108</td>\n",
       "      <td>S108R04.edf</td>\n",
       "      <td>S108R04.edf.event</td>\n",
       "      <td>True</td>\n",
       "    </tr>\n",
       "    <tr>\n",
       "      <th>325</th>\n",
       "      <td>S108</td>\n",
       "      <td>S108R12.edf</td>\n",
       "      <td>S108R12.edf.event</td>\n",
       "      <td>True</td>\n",
       "    </tr>\n",
       "    <tr>\n",
       "      <th>326</th>\n",
       "      <td>S108</td>\n",
       "      <td>S108R08.edf</td>\n",
       "      <td>S108R08.edf.event</td>\n",
       "      <td>True</td>\n",
       "    </tr>\n",
       "  </tbody>\n",
       "</table>\n",
       "<p>327 rows × 4 columns</p>\n",
       "</div>"
      ],
      "text/plain": [
       "    subject     edf_file         event_file  event_exists\n",
       "0      S038  S038R12.edf  S038R12.edf.event          True\n",
       "1      S038  S038R04.edf  S038R04.edf.event          True\n",
       "2      S038  S038R08.edf  S038R08.edf.event          True\n",
       "3      S007  S007R08.edf  S007R08.edf.event          True\n",
       "4      S007  S007R04.edf  S007R04.edf.event          True\n",
       "..      ...          ...                ...           ...\n",
       "322    S106  S106R04.edf  S106R04.edf.event          True\n",
       "323    S106  S106R08.edf  S106R08.edf.event          True\n",
       "324    S108  S108R04.edf  S108R04.edf.event          True\n",
       "325    S108  S108R12.edf  S108R12.edf.event          True\n",
       "326    S108  S108R08.edf  S108R08.edf.event          True\n",
       "\n",
       "[327 rows x 4 columns]"
      ]
     },
     "metadata": {},
     "output_type": "display_data"
    }
   ],
   "source": [
    "# Display the entire DataFrame of matched files\n",
    "print(\"List of All Matched .edf Files:\")\n",
    "display(df_files[['subject', 'edf_file', 'event_file', 'event_exists']])"
   ]
  }
 ],
 "metadata": {
  "kernelspec": {
   "display_name": "venv",
   "language": "python",
   "name": "python3"
  },
  "language_info": {
   "codemirror_mode": {
    "name": "ipython",
    "version": 3
   },
   "file_extension": ".py",
   "mimetype": "text/x-python",
   "name": "python",
   "nbconvert_exporter": "python",
   "pygments_lexer": "ipython3",
   "version": "3.12.2"
  }
 },
 "nbformat": 4,
 "nbformat_minor": 2
}
