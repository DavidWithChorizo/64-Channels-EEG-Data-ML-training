{
 "cells": [
  {
   "cell_type": "markdown",
   "metadata": {},
   "source": [
    "# 01_Data_Loading\n",
    "\n",
    "## Introduction\n",
    "\n",
    "In this notebook, we'll load EEG data from EDF files, perform initial inspections, and visualize the raw signals to understand their structure and quality."
   ]
  },
  {
   "cell_type": "markdown",
   "metadata": {},
   "source": [
    "## Step 1: Import Libraries\n",
    "\n",
    "We'll start by importing the necessary Python libraries required for data loading, processing, and visualization."
   ]
  },
  {
   "cell_type": "code",
   "execution_count": null,
   "metadata": {},
   "outputs": [],
   "source": [
    "# Import essential libraries\n",
    "import mne\n",
    "import numpy as np\n",
    "import matplotlib.pyplot as plt\n",
    "import seaborn as sns\n",
    "\n",
    "\n",
    "# Configure visualization settings\n",
    "# Allow the plots to be displayed in the notebook immediately after the code\n",
    "%matplotlib inline\n",
    "# Set the Seaborn theme to \"darkgrid\" for all plots\n",
    "sns.set_theme(style=\"darkgrid\")"
   ]
  },
  {
   "cell_type": "markdown",
   "metadata": {},
   "source": [
    "## Step 2: Load EDF Files\n",
    "\n",
    "Next, we'll load the EEG data from EDF (European Data Format) files using MNE-Python. We'll inspect the data structure and ensure it's loaded correctly."
   ]
  }
 ],
 "metadata": {
  "language_info": {
   "name": "python"
  }
 },
 "nbformat": 4,
 "nbformat_minor": 2
}
